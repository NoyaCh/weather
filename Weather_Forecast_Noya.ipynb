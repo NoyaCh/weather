{
  "nbformat": 4,
  "nbformat_minor": 0,
  "metadata": {
    "colab": {
      "provenance": [],
      "authorship_tag": "ABX9TyP48zCT5/Ij0musFlRugH0Y",
      "include_colab_link": true
    },
    "kernelspec": {
      "name": "python3",
      "display_name": "Python 3"
    },
    "language_info": {
      "name": "python"
    }
  },
  "cells": [
    {
      "cell_type": "markdown",
      "metadata": {
        "id": "view-in-github",
        "colab_type": "text"
      },
      "source": [
        "<a href=\"https://colab.research.google.com/github/NoyaCh/weather/blob/main/Weather_Forecast_Noya.ipynb\" target=\"_parent\"><img src=\"https://colab.research.google.com/assets/colab-badge.svg\" alt=\"Open In Colab\"/></a>"
      ]
    },
    {
      "cell_type": "markdown",
      "source": [
        "##BIU DS16 Python Project 1 - Weather Forecast Application."
      ],
      "metadata": {
        "id": "rkZtYeilr15A"
      }
    },
    {
      "cell_type": "markdown",
      "source": [
        "**Noya Cohen** : https://github.com/NoyaCh/weather"
      ],
      "metadata": {
        "id": "lu7YuIygB74Y"
      }
    },
    {
      "cell_type": "markdown",
      "source": [
        "##Core Function"
      ],
      "metadata": {
        "id": "iT2KylLpO4xb"
      }
    },
    {
      "cell_type": "markdown",
      "source": [
        "**Objective**\n",
        "    A code that will ask the user a city name, and in return will retrieve weather data, extract it and and display relevant weather data"
      ],
      "metadata": {
        "id": "mEqWHnpaOSsa"
      }
    },
    {
      "cell_type": "markdown",
      "source": [
        "**Essentionals:**\n",
        "library imports and fixed value decleration"
      ],
      "metadata": {
        "id": "gbMU3wa2J_gT"
      }
    },
    {
      "cell_type": "code",
      "source": [
        "#Requests library to make API calls and retrieve weather data\n",
        "import requests\n",
        "from datetime import datetime\n",
        "from tzlocal import get_localzone\n",
        "import pytz\n",
        "import re\n",
        "\n",
        "#API key from OpenWeatherMap\n",
        "API_key=\"7b5ed98ee7199651939640232499123c\""
      ],
      "metadata": {
        "id": "e0RxU1OIr3zG"
      },
      "execution_count": 50,
      "outputs": []
    },
    {
      "cell_type": "markdown",
      "source": [
        "**Building a function that fetches and describes the weather data for a city given by the user**\n"
      ],
      "metadata": {
        "id": "GQbvD4V1KUC6"
      }
    },
    {
      "cell_type": "code",
      "source": [
        "def get_weather_data(city):\n",
        "#calling and assignmening the weather data of OpenWeatherMap\n",
        "  API_call = f\"https://api.openweathermap.org/data/2.5/weather?q={city}&appid={API_key}\"\n",
        "  API_response=requests.get(API_call)\n",
        "  weather_json=API_response.json()\n",
        "\n",
        "  #checking for a valid city name\n",
        "  if weather_json['cod'] == '404':\n",
        "    print(\"City not found. Re-enter city name :\")\n",
        "\n",
        "  #When given a valid city name, the function will print the following details\n",
        "  else:\n",
        "    #city name and weather condition\n",
        "    print(\"city: \" +city)\n",
        "    print(\"weather condition: \" + weather_json[\"weather\"][0][\"description\"])\n",
        "    #tempature values, including humidity and pressure\n",
        "    temps=weather_json['main']\n",
        "    #note: In the following loop I will print the tempature deatils, and I want to display tempature varaibles in both  Kelvin (original) and Celsius.\n",
        "    for key, value in temps.items():\n",
        "      if key not in ['pressure', 'humidity']:\n",
        "        temp_celsius = value - 273.15  # Convert from Kelvin to Celsius\n",
        "        label_kelvin = f\"{key}: {value}°K\" #showing temps in Kelvin\n",
        "        label_celsius = f\" ({round(temp_celsius,2)}°C) \" ##showing temps in Kelvin. note:\":.2f\" is for rounding to 2 digits number\n",
        "        print(label_kelvin + label_celsius)\n",
        "      else:\n",
        "        print(f\"{key}: {value}\")\n",
        "\n"
      ],
      "metadata": {
        "id": "VJFoMZGEGkW9"
      },
      "execution_count": 51,
      "outputs": []
    },
    {
      "cell_type": "markdown",
      "source": [
        "## Stretch Goal Alpha - Display Current Date and Time at the location\n",
        "\n",
        "**Finding the timzone based on the given city**\n",
        "\n"
      ],
      "metadata": {
        "id": "OqcK2aI7PSmq"
      }
    },
    {
      "cell_type": "code",
      "source": [
        "def get_timezone_by_city(city):\n",
        "    timezones=[]\n",
        "    #notice that in regrads to cities, the pytz library for timezone contains an under line \"_\" if the city is composed of 2+ words.\n",
        "    #Hence, if the user will insert \"tel aviv\" or \"tel-aviv\" it won't match, so I will match here the user pattern to the pytz pattern\"\n",
        "    pattern = r'[ \\t\\n-]'\n",
        "\n",
        "    #this loop will try to macth the city the user inserted, to the listed cities in the list of timezones of pytz.\n",
        "    for tz in pytz.all_timezones:\n",
        "      if re.sub(pattern, '_', city).lower() in tz.lower():\n",
        "        timezones.append(tz)\n",
        "\n",
        "#if there was no match and no timezone was found for the city it will return a string type of out put.\n",
        "#if there was a match, a time zone of a the pytz type will be returned\n",
        "    if not timezones:\n",
        "      return(\"no timzone for the specified city.\")\n",
        "    else:\n",
        "      return (pytz.timezone(timezones[0]))\n"
      ],
      "metadata": {
        "id": "nutg37wE7o9b"
      },
      "execution_count": 52,
      "outputs": []
    },
    {
      "cell_type": "markdown",
      "source": [
        "**Time displaying** This function's purpose is to display the the user's own time and the time of the city they chose"
      ],
      "metadata": {
        "id": "TmWoW542B2bR"
      }
    },
    {
      "cell_type": "code",
      "source": [
        "\n",
        "def display_date_time(user_timezone, location_timezone=None):\n",
        "    #Fetch current date and time in user's timezone\n",
        "    user_time = datetime.now(pytz.timezone(user_timezone))\n",
        "    formatted_user_time = user_time.strftime(\"%A, %B %d, %Y, %I:%M %p\")\n",
        "    print(f\"Your current date and time: {formatted_user_time}\")\n",
        "\n",
        "    #if the function <get_timezone_by_city> macthed a timezone to the user's chosen city, proceed to fetching and displaying its time:\n",
        "    if type(location_timezone) != str:\n",
        "        location_time = user_time.astimezone(location_timezone)\n",
        "        formatted_location_time = location_time.strftime(\"%A, %B %d, %Y, %I:%M %p\")\n",
        "        print(f\"Date and time in {location_timezone}: {formatted_location_time}\")\n",
        "\n"
      ],
      "metadata": {
        "id": "bCR3PLIJJYN3"
      },
      "execution_count": 53,
      "outputs": []
    },
    {
      "cell_type": "markdown",
      "source": [
        "## Calling for the fundamental weather info and Stretch Goal Alpha"
      ],
      "metadata": {
        "id": "Dhb9BxVKZmSK"
      }
    },
    {
      "cell_type": "code",
      "source": [
        "#Core Assignment Calling\n",
        "city=input(\"Please enter city name \")\n",
        "get_weather_data(city)\n",
        "\n",
        "#Stretch Goal Alpha\n",
        "location_timezone=get_timezone_by_city(city)\n",
        "display_date_time(\"Asia/Tel_Aviv\", location_timezone)"
      ],
      "metadata": {
        "colab": {
          "base_uri": "https://localhost:8080/"
        },
        "id": "EjgxXn_9YtqE",
        "outputId": "cbd33e5b-2c18-4ce3-c2c7-569afe17f9ae"
      },
      "execution_count": 54,
      "outputs": [
        {
          "output_type": "stream",
          "name": "stdout",
          "text": [
            "Please enter city name tokyo\n",
            "city: tokyo\n",
            "weather condition: few clouds\n",
            "temp: 284.97°K (11.82°C) \n",
            "feels_like: 283.41°K (10.26°C) \n",
            "temp_min: 282.93°K (9.78°C) \n",
            "temp_max: 286.79°K (13.64°C) \n",
            "pressure: 1016\n",
            "humidity: 46\n",
            "Your current date and time: Sunday, December 03, 2023, 11:57 AM\n",
            "Date and time in Asia/Tokyo: Sunday, December 03, 2023, 06:57 PM\n"
          ]
        }
      ]
    },
    {
      "cell_type": "markdown",
      "source": [
        "    * user_timezone = get_localzone()\n",
        "    I tried using this to have a more of a general function but it's not giving percise timing\n"
      ],
      "metadata": {
        "id": "G1QjLWfZF2RB"
      }
    }
  ]
}